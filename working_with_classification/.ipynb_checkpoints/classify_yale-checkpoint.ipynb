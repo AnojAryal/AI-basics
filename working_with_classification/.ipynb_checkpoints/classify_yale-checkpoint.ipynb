{
 "cells": [
  {
   "cell_type": "markdown",
   "metadata": {
    "id": "XEb0VDGENcut"
   },
   "source": []
  },
  {
   "cell_type": "code",
   "execution_count": null,
   "metadata": {
    "id": "rTTlohXBNXfP"
   },
   "outputs": [],
   "source": [
    "from google.colab import drive # mounts the google drive for a new notebook \n",
    "drive.mount('/content/drive')"
   ]
  },
  {
   "cell_type": "code",
   "execution_count": null,
   "metadata": {
    "id": "Nygdl2G9Nieo"
   },
   "outputs": [],
   "source": [
    "# load the 2 npy files created by the process_yale_images.ipynb \n",
    "from numpy import load\n",
    "import numpy as np\n",
    "path = '/content/drive/My Drive/'\n",
    "# load array\n",
    "y = load(path + 'yaleExtB_target.npy')\n",
    "X = load(path + 'yaleExtB_data.npy')"
   ]
  },
  {
   "cell_type": "code",
   "execution_count": null,
   "metadata": {
    "id": "Th62dSshOXqa"
   },
   "outputs": [],
   "source": [
    "from sklearn.model_selection import train_test_split # loads functions from the ML library sklearn \n",
    "from sklearn.metrics import classification_report\n",
    "from sklearn.decomposition import PCA\n",
    "from sklearn.neural_network import MLPClassifier"
   ]
  },
  {
   "cell_type": "code",
   "execution_count": null,
   "metadata": {
    "id": "uz5JnDUOOgEw"
   },
   "outputs": [],
   "source": [
    "# split into a training and testing set\n",
    "X_train, X_test, y_train, y_test = train_test_split(X, y, test_size=0.2)"
   ]
  },
  {
   "cell_type": "code",
   "execution_count": null,
   "metadata": {
    "id": "I3HtYdw6Oj6J"
   },
   "outputs": [],
   "source": [
    "# PCA \n",
    "nof_prin_components = 200  # PARAMETER for optimisation in expereiments\n",
    "pca = PCA(n_components=nof_prin_components, whiten=True).fit(X_train)\n",
    "# applies PCA to the train and test images to calculate the principal components\n",
    "X_train_pca = pca.transform(X_train) \n",
    "X_test_pca = pca.transform(X_test)"
   ]
  },
  {
   "cell_type": "markdown",
   "metadata": {
    "id": "s4PyCqp6PwDl"
   },
   "source": [
    "[Documentation of ML sklearn library](https://scikit-learn.org/stable/modules/generated/sklearn.neural_network.MLPClassifier.html#sklearn.neural_network.MLPClassifier)"
   ]
  },
  {
   "cell_type": "code",
   "execution_count": null,
   "metadata": {
    "id": "xZ3tZ3u9On_z"
   },
   "outputs": [],
   "source": [
    "# train a neural network\n",
    "nohn = 200 # nof hidden neurons\n",
    "print(\"Fitting the classifier to the training set\")\n",
    "clf = MLPClassifier(hidden_layer_sizes=(nohn,), solver='sgd', activation='tanh', batch_size=256, verbose=True, early_stopping=True).fit(X_train_pca, y_train)"
   ]
  },
  {
   "cell_type": "code",
   "execution_count": null,
   "metadata": {
    "colab": {
     "base_uri": "https://localhost:8080/",
     "height": 664
    },
    "id": "GpQlLK8wO-lw",
    "outputId": "1a635654-b8eb-445b-9086-f601418d94a6"
   },
   "outputs": [
    {
     "name": "stdout",
     "output_type": "stream",
     "text": [
      "              precision    recall  f1-score   support\n",
      "\n",
      "         2.0       0.60      0.75      0.67         4\n",
      "         3.0       1.00      1.00      1.00         9\n",
      "         4.0       0.89      0.80      0.84        10\n",
      "         5.0       1.00      0.67      0.80         6\n",
      "         6.0       0.86      0.86      0.86        14\n",
      "         7.0       0.92      0.69      0.79        16\n",
      "         8.0       0.86      0.60      0.71        10\n",
      "         9.0       0.79      0.73      0.76        15\n",
      "        11.0       0.86      0.60      0.71        10\n",
      "        12.0       0.75      0.90      0.82        10\n",
      "        13.0       1.00      0.78      0.88         9\n",
      "        15.0       0.78      0.88      0.82         8\n",
      "        16.0       0.83      0.77      0.80        13\n",
      "        17.0       0.78      1.00      0.88         7\n",
      "        18.0       1.00      0.75      0.86        12\n",
      "        20.0       0.65      0.92      0.76        12\n",
      "        22.0       0.71      0.50      0.59        10\n",
      "        23.0       0.83      0.56      0.67         9\n",
      "        24.0       1.00      0.92      0.96        12\n",
      "        25.0       0.75      0.82      0.78        11\n",
      "        26.0       0.75      0.82      0.78        11\n",
      "        27.0       0.78      0.88      0.82         8\n",
      "        28.0       0.60      1.00      0.75         9\n",
      "        32.0       0.86      0.75      0.80         8\n",
      "        33.0       0.67      1.00      0.80         6\n",
      "        34.0       0.75      0.82      0.78        11\n",
      "        35.0       0.67      0.86      0.75         7\n",
      "        37.0       0.67      0.80      0.73        10\n",
      "        38.0       1.00      0.70      0.82        10\n",
      "        39.0       0.75      0.92      0.83        13\n",
      "\n",
      "    accuracy                           0.80       300\n",
      "   macro avg       0.81      0.80      0.79       300\n",
      "weighted avg       0.82      0.80      0.80       300\n",
      "\n"
     ]
    }
   ],
   "source": [
    "y_pred = clf.predict(X_test_pca) # reoognises the test images \n",
    "print(classification_report(y_test, y_pred)) # the recognition accuracy"
   ]
  }
 ],
 "metadata": {
  "colab": {
   "provenance": []
  },
  "kernelspec": {
   "display_name": "Python 3 (ipykernel)",
   "language": "python",
   "name": "python3"
  },
  "language_info": {
   "codemirror_mode": {
    "name": "ipython",
    "version": 3
   },
   "file_extension": ".py",
   "mimetype": "text/x-python",
   "name": "python",
   "nbconvert_exporter": "python",
   "pygments_lexer": "ipython3",
   "version": "3.10.9"
  }
 },
 "nbformat": 4,
 "nbformat_minor": 1
}
